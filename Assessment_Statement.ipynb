{
 "cells": [
  {
   "cell_type": "code",
   "execution_count": 1,
   "id": "f26c3a75",
   "metadata": {},
   "outputs": [
    {
     "name": "stdout",
     "output_type": "stream",
     "text": [
      "start\n",
      "s\n",
      "sentence\n"
     ]
    }
   ],
   "source": [
    "st = 'Print only the words that start with s in this sentence'\n",
    "mylist = st.split()\n",
    "for word in mylist:\n",
    "    if (list(word))[0] == 's':\n",
    "        print(word)"
   ]
  },
  {
   "cell_type": "code",
   "execution_count": 2,
   "id": "5c37b757",
   "metadata": {},
   "outputs": [
    {
     "name": "stdout",
     "output_type": "stream",
     "text": [
      "start\n",
      "s\n",
      "sentence\n"
     ]
    }
   ],
   "source": [
    "st = 'Print only the words that start with s in this sentence'\n",
    "mylist = st.split()\n",
    "for word in mylist:\n",
    "    if word[0] == 's':\n",
    "        print(word)\n",
    "#you can use the indexing of string, much more readable"
   ]
  },
  {
   "cell_type": "code",
   "execution_count": 3,
   "id": "3df175b7",
   "metadata": {},
   "outputs": [
    {
     "name": "stdout",
     "output_type": "stream",
     "text": [
      "0\n",
      "2\n",
      "4\n",
      "6\n",
      "8\n"
     ]
    }
   ],
   "source": [
    "for num in range(0,10):\n",
    "    if num%2 == 0:\n",
    "        print(num)"
   ]
  },
  {
   "cell_type": "code",
   "execution_count": 4,
   "id": "280be78c",
   "metadata": {},
   "outputs": [
    {
     "name": "stdout",
     "output_type": "stream",
     "text": [
      "3\n",
      "6\n",
      "9\n",
      "12\n",
      "15\n",
      "18\n",
      "21\n",
      "24\n",
      "27\n",
      "30\n",
      "33\n",
      "36\n",
      "39\n",
      "42\n",
      "45\n",
      "48\n"
     ]
    }
   ],
   "source": [
    "mylist = [num for num in range(1,50)]\n",
    "for num in mylist:\n",
    "    if num%3 == 0:\n",
    "        print(num)"
   ]
  },
  {
   "cell_type": "code",
   "execution_count": 5,
   "id": "0ef855d1",
   "metadata": {},
   "outputs": [
    {
     "name": "stdout",
     "output_type": "stream",
     "text": [
      "\"even!\"\n",
      "\"even!\"\n",
      "\"even!\"\n",
      "\"even!\"\n",
      "\"even!\"\n",
      "\"even!\"\n",
      "\"even!\"\n",
      "\"even!\"\n",
      "\"even!\"\n"
     ]
    }
   ],
   "source": [
    "st = 'Print every word in this sentence that has an even number of letters'\n",
    "mylist = st.split()\n",
    "for word in mylist:\n",
    "    if len(word)%2 == 0:\n",
    "        print('\"even!\"')"
   ]
  },
  {
   "cell_type": "code",
   "execution_count": 6,
   "id": "b2182d9c",
   "metadata": {},
   "outputs": [
    {
     "name": "stdout",
     "output_type": "stream",
     "text": [
      "1\n",
      "2\n",
      "\"Fizz\"\n",
      "4\n",
      "\"Buzz\"\n",
      "\"Fizz\"\n",
      "7\n",
      "8\n",
      "\"Fizz\"\n",
      "\"Buzz\"\n",
      "11\n",
      "\"Fizz\"\n",
      "13\n",
      "14\n",
      "\"FizzBuzz\"\n",
      "16\n",
      "17\n",
      "\"Fizz\"\n",
      "19\n",
      "\"Buzz\"\n",
      "\"Fizz\"\n",
      "22\n",
      "23\n",
      "\"Fizz\"\n",
      "\"Buzz\"\n",
      "26\n",
      "\"Fizz\"\n",
      "28\n",
      "29\n",
      "\"FizzBuzz\"\n",
      "31\n",
      "32\n",
      "\"Fizz\"\n",
      "34\n",
      "\"Buzz\"\n",
      "\"Fizz\"\n",
      "37\n",
      "38\n",
      "\"Fizz\"\n",
      "\"Buzz\"\n",
      "41\n",
      "\"Fizz\"\n",
      "43\n",
      "44\n",
      "\"FizzBuzz\"\n",
      "46\n",
      "47\n",
      "\"Fizz\"\n",
      "49\n",
      "\"Buzz\"\n",
      "\"Fizz\"\n",
      "52\n",
      "53\n",
      "\"Fizz\"\n",
      "\"Buzz\"\n",
      "56\n",
      "\"Fizz\"\n",
      "58\n",
      "59\n",
      "\"FizzBuzz\"\n",
      "61\n",
      "62\n",
      "\"Fizz\"\n",
      "64\n",
      "\"Buzz\"\n",
      "\"Fizz\"\n",
      "67\n",
      "68\n",
      "\"Fizz\"\n",
      "\"Buzz\"\n",
      "71\n",
      "\"Fizz\"\n",
      "73\n",
      "74\n",
      "\"FizzBuzz\"\n",
      "76\n",
      "77\n",
      "\"Fizz\"\n",
      "79\n",
      "\"Buzz\"\n",
      "\"Fizz\"\n",
      "82\n",
      "83\n",
      "\"Fizz\"\n",
      "\"Buzz\"\n",
      "86\n",
      "\"Fizz\"\n",
      "88\n",
      "89\n",
      "\"FizzBuzz\"\n",
      "91\n",
      "92\n",
      "\"Fizz\"\n",
      "94\n",
      "\"Buzz\"\n",
      "\"Fizz\"\n",
      "97\n",
      "98\n",
      "\"Fizz\"\n"
     ]
    }
   ],
   "source": [
    "for num in range (1,100):\n",
    "    if (num%3 == 0 and num%5 == 0):\n",
    "        print('\"FizzBuzz\"')\n",
    "    elif num%3 == 0:\n",
    "        print('\"Fizz\"')\n",
    "    elif num%5 == 0:\n",
    "        print('\"Buzz\"')\n",
    "    else:\n",
    "        print(num)"
   ]
  },
  {
   "cell_type": "code",
   "execution_count": 7,
   "id": "76e8446d",
   "metadata": {},
   "outputs": [
    {
     "data": {
      "text/plain": [
       "['C', 'a', 'l', 'o', 't', 'f', 'l', 'o', 'e', 'w', 'i', 't', 's']"
      ]
     },
     "execution_count": 7,
     "metadata": {},
     "output_type": "execute_result"
    }
   ],
   "source": [
    "st = 'Create a list of the first letters of every word in this string'\n",
    "[(list(item))[0] for item in st.split()]"
   ]
  },
  {
   "cell_type": "code",
   "execution_count": 8,
   "id": "d07f9354",
   "metadata": {},
   "outputs": [
    {
     "data": {
      "text/plain": [
       "['C', 'a', 'l', 'o', 't', 'f', 'l', 'o', 'e', 'w', 'i', 't', 's']"
      ]
     },
     "execution_count": 8,
     "metadata": {},
     "output_type": "execute_result"
    }
   ],
   "source": [
    "st = 'Create a list of the first letters of every word in this string'\n",
    "[word[0] for word in st.split()]\n",
    "#used word indexing, no need make another list, more readable"
   ]
  },
  {
   "cell_type": "code",
   "execution_count": null,
   "id": "b1cbfaab",
   "metadata": {},
   "outputs": [],
   "source": []
  }
 ],
 "metadata": {
  "kernelspec": {
   "display_name": "Python 3 (ipykernel)",
   "language": "python",
   "name": "python3"
  },
  "language_info": {
   "codemirror_mode": {
    "name": "ipython",
    "version": 3
   },
   "file_extension": ".py",
   "mimetype": "text/x-python",
   "name": "python",
   "nbconvert_exporter": "python",
   "pygments_lexer": "ipython3",
   "version": "3.9.7"
  }
 },
 "nbformat": 4,
 "nbformat_minor": 5
}
